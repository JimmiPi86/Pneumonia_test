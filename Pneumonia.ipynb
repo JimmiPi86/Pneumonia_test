{
 "cells": [
  {
   "cell_type": "code",
   "execution_count": 1,
   "id": "52e1367d",
   "metadata": {},
   "outputs": [],
   "source": [
    "import glob\n",
    "import os\n",
    "import numpy as np\n",
    "import pandas as pd\n",
    "import matplotlib.pyplot as plt\n",
    "%matplotlib inline\n",
    "\n",
    "import tensorflow as tf\n",
    "from tensorflow import keras\n",
    "from keras.applications import VGG16\n",
    "from tensorflow.keras.preprocessing.image import ImageDataGenerator"
   ]
  },
  {
   "cell_type": "markdown",
   "id": "25edea01",
   "metadata": {},
   "source": [
    "## Przygotowanie danych. "
   ]
  },
  {
   "cell_type": "code",
   "execution_count": 17,
   "id": "0bf6b89b",
   "metadata": {},
   "outputs": [],
   "source": [
    "dir_path = \"D:/Python/Projekty/Moje_projekty/Pneumonia/input\"\n",
    "train_p = os.path.join(dir_path, \"train\")"
   ]
  },
  {
   "cell_type": "code",
   "execution_count": 18,
   "id": "1155792e",
   "metadata": {},
   "outputs": [],
   "source": [
    "''' PNEUMONIA images '''\n",
    "n_train_images = glob.glob(train_p + \"/NORMAL/*.jpeg\")\n",
    "train_p = os.path.join(dir_path, \"train\")\n",
    "test_p =os.path.join(dir_path, \"test\")\n",
    "val_p = os.path.join(dir_path, \"val\")"
   ]
  },
  {
   "cell_type": "code",
   "execution_count": 21,
   "id": "08449da6",
   "metadata": {},
   "outputs": [],
   "source": [
    "p_train_images = glob.glob(train_p + \"/PNEUMONIA/*.jpeg\")\n",
    "n_train_images = glob.glob(train_p + \"/NORMAL/*.jpeg\")"
   ]
  },
  {
   "cell_type": "code",
   "execution_count": 28,
   "id": "a48c5926",
   "metadata": {},
   "outputs": [],
   "source": [
    "df = pd.DataFrame(np.concatenate([[0]*len(n_train_images) , [1] *  len(p_train_images)]),columns=[\"class\"])"
   ]
  },
  {
   "cell_type": "code",
   "execution_count": 30,
   "id": "65b8d553",
   "metadata": {},
   "outputs": [
    {
     "name": "stderr",
     "output_type": "stream",
     "text": [
      "E:\\Anaconda\\lib\\site-packages\\seaborn\\_decorators.py:36: FutureWarning: Pass the following variable as a keyword arg: x. From version 0.12, the only valid positional argument will be `data`, and passing other arguments without an explicit keyword will result in an error or misinterpretation.\n",
      "  warnings.warn(\n"
     ]
    },
    {
     "data": {
      "text/plain": [
       "<AxesSubplot:xlabel='class', ylabel='count'>"
      ]
     },
     "execution_count": 30,
     "metadata": {},
     "output_type": "execute_result"
    },
    {
     "data": {
      "image/png": "[encoded data removed]",
      "text/plain": [
       "<Figure size 432x288 with 1 Axes>"
      ]
     },
     "metadata": {
      "needs_background": "light"
     },
     "output_type": "display_data"
    }
   ],
   "source": [
    "import seaborn as sns\n",
    "sns.countplot(df['class'],data=df)"
   ]
  },
  {
   "cell_type": "code",
   "execution_count": 45,
   "id": "4d179607",
   "metadata": {},
   "outputs": [],
   "source": [
    "train_ds = ImageDataGenerator(rescale =1/255, shear_range=10, zoom_range = 0.2, horizontal_flip = True, \n",
    "                              width_shift_range=0.2, fill_mode = 'nearest')\n"
   ]
  },
  {
   "cell_type": "code",
   "execution_count": 44,
   "id": "6139545a",
   "metadata": {},
   "outputs": [],
   "source": [
    "'''val_datagen jest generatorem transformacji danych, który normalizuje wartości pikseli w \n",
    "zbiorze walidacyjnym poprzez rescale=1/255, ale nie stosuje innych transformacji danych.'''\n",
    "val_datagen = ImageDataGenerator(\n",
    "    rescale = 1/255\n",
    ")"
   ]
  },
  {
   "cell_type": "code",
   "execution_count": 37,
   "id": "719d8d2a",
   "metadata": {},
   "outputs": [
    {
     "name": "stdout",
     "output_type": "stream",
     "text": [
      "Downloading data from https://storage.googleapis.com/tensorflow/keras-applications/vgg16/vgg16_weights_tf_dim_ordering_tf_kernels_notop.h5\n",
      "58889256/58889256 [==============================] - 9s 0us/step\n"
     ]
    }
   ],
   "source": [
    "model1 = VGG16(include_top = False,weights='imagenet')\n",
    "\n",
    "''' freezing layers '''\n",
    "for i in model1.layers:\n",
    "    i.trainable=False\n",
    "    \n",
    "out = model1.output"
   ]
  },
  {
   "cell_type": "code",
   "execution_count": 38,
   "id": "590bd102",
   "metadata": {},
   "outputs": [],
   "source": [
    "''' GlobalAveragePooling Layer '''\n",
    "out = keras.layers.GlobalAveragePooling2D()(out)\n",
    "out = keras.layers.Dense(128, activation='relu')(out)\n",
    "\n",
    "''' Classification Layer '''\n",
    "pred = keras.layers.Dense(1, activation='sigmoid')(out)\n",
    "\n",
    "''' final model '''\n",
    "model= keras.Model(model1.input, pred)"
   ]
  },
  {
   "cell_type": "code",
   "execution_count": 39,
   "id": "14a65265",
   "metadata": {},
   "outputs": [],
   "source": [
    "lr = 0.1\n",
    "lr_schedule = tf.keras.optimizers.schedules.ExponentialDecay(lr, decay_steps=100000, decay_rate=0.96, staircase=True)\n",
    "\n",
    "''' Compile the model '''\n",
    "model.compile(loss='binary_crossentropy', optimizer=tf.keras.optimizers.RMSprop(lr_schedule), metrics=['accuracy'])"
   ]
  },
  {
   "cell_type": "code",
   "execution_count": 40,
   "id": "abef51eb",
   "metadata": {},
   "outputs": [
    {
     "name": "stdout",
     "output_type": "stream",
     "text": [
      "Model: \"model\"\n",
      "_________________________________________________________________\n",
      " Layer (type)                Output Shape              Param #   \n",
      "=================================================================\n",
      " input_1 (InputLayer)        [(None, None, None, 3)]   0         \n",
      "                                                                 \n",
      " block1_conv1 (Conv2D)       (None, None, None, 64)    1792      \n",
      "                                                                 \n",
      " block1_conv2 (Conv2D)       (None, None, None, 64)    36928     \n",
      "                                                                 \n",
      " block1_pool (MaxPooling2D)  (None, None, None, 64)    0         \n",
      "                                                                 \n",
      " block2_conv1 (Conv2D)       (None, None, None, 128)   73856     \n",
      "                                                                 \n",
      " block2_conv2 (Conv2D)       (None, None, None, 128)   147584    \n",
      "                                                                 \n",
      " block2_pool (MaxPooling2D)  (None, None, None, 128)   0         \n",
      "                                                                 \n",
      " block3_conv1 (Conv2D)       (None, None, None, 256)   295168    \n",
      "                                                                 \n",
      " block3_conv2 (Conv2D)       (None, None, None, 256)   590080    \n",
      "                                                                 \n",
      " block3_conv3 (Conv2D)       (None, None, None, 256)   590080    \n",
      "                                                                 \n",
      " block3_pool (MaxPooling2D)  (None, None, None, 256)   0         \n",
      "                                                                 \n",
      " block4_conv1 (Conv2D)       (None, None, None, 512)   1180160   \n",
      "                                                                 \n",
      " block4_conv2 (Conv2D)       (None, None, None, 512)   2359808   \n",
      "                                                                 \n",
      " block4_conv3 (Conv2D)       (None, None, None, 512)   2359808   \n",
      "                                                                 \n",
      " block4_pool (MaxPooling2D)  (None, None, None, 512)   0         \n",
      "                                                                 \n",
      " block5_conv1 (Conv2D)       (None, None, None, 512)   2359808   \n",
      "                                                                 \n",
      " block5_conv2 (Conv2D)       (None, None, None, 512)   2359808   \n",
      "                                                                 \n",
      " block5_conv3 (Conv2D)       (None, None, None, 512)   2359808   \n",
      "                                                                 \n",
      " block5_pool (MaxPooling2D)  (None, None, None, 512)   0         \n",
      "                                                                 \n",
      " global_average_pooling2d (G  (None, 512)              0         \n",
      " lobalAveragePooling2D)                                          \n",
      "                                                                 \n",
      " dense (Dense)               (None, 128)               65664     \n",
      "                                                                 \n",
      " dense_1 (Dense)             (None, 1)                 129       \n",
      "                                                                 \n",
      "=================================================================\n",
      "Total params: 14,780,481\n",
      "Trainable params: 65,793\n",
      "Non-trainable params: 14,714,688\n",
      "_________________________________________________________________\n"
     ]
    }
   ],
   "source": [
    "''' lets see how model looks like '''\n",
    "model.summary()"
   ]
  },
  {
   "cell_type": "code",
   "execution_count": 46,
   "id": "12d4e669",
   "metadata": {},
   "outputs": [
    {
     "name": "stdout",
     "output_type": "stream",
     "text": [
      "Found 5216 images belonging to 2 classes.\n",
      "Found 16 images belonging to 2 classes.\n",
      "Found 624 images belonging to 2 classes.\n"
     ]
    }
   ],
   "source": [
    "train_ds = train_ds.flow_from_directory(train_p, target_size=(150,150), batch_size= 16, class_mode='binary')\n",
    "\n",
    "val_ds = val_ds.flow_from_directory(val_p, target_size=(150,150),batch_size=8, class_mode='binary')\n",
    "\n",
    "tes_ds = val_datagen.flow_from_directory(test_p, target_size=(150,150), batch_size=32, class_mode='binary')"
   ]
  },
  {
   "cell_type": "code",
   "execution_count": 47,
   "id": "9024e6b4",
   "metadata": {},
   "outputs": [
    {
     "name": "stdout",
     "output_type": "stream",
     "text": [
      "Epoch 1/20\n",
      "100/100 [==============================] - 107s 1s/step - loss: 2.4891 - accuracy: 0.7625 - val_loss: 0.5789 - val_accuracy: 0.6875\n",
      "Epoch 2/20\n",
      "100/100 [==============================] - 102s 1s/step - loss: 0.4507 - accuracy: 0.8444 - val_loss: 1.2058 - val_accuracy: 0.6875\n",
      "Epoch 3/20\n",
      "100/100 [==============================] - 113s 1s/step - loss: 0.4938 - accuracy: 0.8350 - val_loss: 0.3072 - val_accuracy: 0.8750\n",
      "Epoch 4/20\n",
      "100/100 [==============================] - 112s 1s/step - loss: 0.2996 - accuracy: 0.8888 - val_loss: 1.0905 - val_accuracy: 0.6875\n",
      "Epoch 5/20\n",
      "100/100 [==============================] - 107s 1s/step - loss: 0.2864 - accuracy: 0.8863 - val_loss: 0.3647 - val_accuracy: 0.8125\n",
      "Epoch 6/20\n",
      "100/100 [==============================] - 112s 1s/step - loss: 0.3008 - accuracy: 0.8863 - val_loss: 0.2992 - val_accuracy: 0.9375\n",
      "Epoch 7/20\n",
      "100/100 [==============================] - 129s 1s/step - loss: 0.2605 - accuracy: 0.9031 - val_loss: 0.2815 - val_accuracy: 0.9375\n",
      "Epoch 8/20\n",
      "100/100 [==============================] - 115s 1s/step - loss: 0.4299 - accuracy: 0.8925 - val_loss: 0.5039 - val_accuracy: 0.8125\n",
      "Epoch 9/20\n",
      "100/100 [==============================] - 114s 1s/step - loss: 0.2782 - accuracy: 0.9100 - val_loss: 0.2463 - val_accuracy: 0.8750\n",
      "Epoch 10/20\n",
      "100/100 [==============================] - 109s 1s/step - loss: 0.2426 - accuracy: 0.9112 - val_loss: 0.3389 - val_accuracy: 0.8125\n",
      "Epoch 11/20\n",
      "100/100 [==============================] - 108s 1s/step - loss: 0.2664 - accuracy: 0.9025 - val_loss: 0.1666 - val_accuracy: 0.9375\n",
      "Epoch 12/20\n",
      "100/100 [==============================] - 112s 1s/step - loss: 0.2647 - accuracy: 0.9006 - val_loss: 0.3597 - val_accuracy: 0.8125\n",
      "Epoch 13/20\n",
      "100/100 [==============================] - 116s 1s/step - loss: 0.2567 - accuracy: 0.9094 - val_loss: 0.6946 - val_accuracy: 0.6875\n",
      "Epoch 14/20\n",
      "100/100 [==============================] - 111s 1s/step - loss: 0.3082 - accuracy: 0.9044 - val_loss: 1.9225 - val_accuracy: 0.6875\n",
      "Epoch 15/20\n",
      "100/100 [==============================] - 111s 1s/step - loss: 0.2575 - accuracy: 0.9019 - val_loss: 0.7121 - val_accuracy: 0.6875\n",
      "Epoch 16/20\n",
      "100/100 [==============================] - 111s 1s/step - loss: 0.3261 - accuracy: 0.8975 - val_loss: 0.3420 - val_accuracy: 0.8125\n",
      "Epoch 17/20\n",
      "100/100 [==============================] - 113s 1s/step - loss: 0.2353 - accuracy: 0.9194 - val_loss: 0.0764 - val_accuracy: 1.0000\n",
      "Epoch 18/20\n",
      "100/100 [==============================] - 110s 1s/step - loss: 0.3217 - accuracy: 0.8975 - val_loss: 0.9769 - val_accuracy: 0.6875\n",
      "Epoch 19/20\n",
      "100/100 [==============================] - 111s 1s/step - loss: 0.2600 - accuracy: 0.9069 - val_loss: 0.1539 - val_accuracy: 0.9375\n",
      "Epoch 20/20\n",
      "100/100 [==============================] - 113s 1s/step - loss: 0.2537 - accuracy: 0.9106 - val_loss: 0.8062 - val_accuracy: 0.6875\n"
     ]
    }
   ],
   "source": [
    "''' training '''\n",
    "history = model.fit(train_ds, steps_per_epoch = 100, epochs=20, validation_data=val_ds)"
   ]
  },
  {
   "cell_type": "code",
   "execution_count": 49,
   "id": "dac9877a",
   "metadata": {},
   "outputs": [
    {
     "data": {
      "image/png": "[encoded data removed]",
      "text/plain": [
       "<Figure size 1080x720 with 2 Axes>"
      ]
     },
     "metadata": {},
     "output_type": "display_data"
    }
   ],
   "source": [
    "plt.figure(figsize=(15,10))\n",
    "plt.subplot(2, 2, 1)\n",
    "plt.plot(history.history['accuracy'], label = \"Training accuracy\")\n",
    "plt.plot(history.history['val_accuracy'], label=\"Validation accuracy\")\n",
    "plt.legend()\n",
    "plt.title(\"Training vs validation accuracy\")\n",
    "\n",
    "''' Training Loss and Validation Loss graph '''\n",
    "plt.subplot(2,2,2)\n",
    "plt.plot(history.history['loss'], label = \"Training loss\")\n",
    "plt.plot(history.history['val_loss'], label=\"Validation loss\")\n",
    "plt.legend()\n",
    "plt.title(\"Training vs validation loss\")\n",
    "\n",
    "plt.show()"
   ]
  },
  {
   "cell_type": "code",
   "execution_count": 50,
   "id": "ec45bbc6",
   "metadata": {},
   "outputs": [
    {
     "name": "stdout",
     "output_type": "stream",
     "text": [
      "Number of GPUs Available:  0\n"
     ]
    }
   ],
   "source": [
    "physical_devices = tf.config.list_physical_devices('GPU')\n",
    "print(\"Number of GPUs Available: \", len(physical_devices))"
   ]
  },
  {
   "cell_type": "code",
   "execution_count": 51,
   "id": "b9f5eb72",
   "metadata": {},
   "outputs": [
    {
     "data": {
      "text/plain": [
       "[]"
      ]
     },
     "execution_count": 51,
     "metadata": {},
     "output_type": "execute_result"
    }
   ],
   "source": [
    "tf.config.list_physical_devices('GPU')"
   ]
  },
  {
   "cell_type": "code",
   "execution_count": null,
   "id": "76c88b5f",
   "metadata": {},
   "outputs": [],
   "source": []
  }
 ],
 "metadata": {
  "kernelspec": {
   "display_name": "Python 3 (ipykernel)",
   "language": "python",
   "name": "python3"
  },
  "language_info": {
   "codemirror_mode": {
    "name": "ipython",
    "version": 3
   },
   "file_extension": ".py",
   "mimetype": "text/x-python",
   "name": "python",
   "nbconvert_exporter": "python",
   "pygments_lexer": "ipython3",
   "version": "3.9.18"
  }
 },
 "nbformat": 4,
 "nbformat_minor": 5
}
